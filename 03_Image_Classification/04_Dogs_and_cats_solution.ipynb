{
 "cells": [
  {
   "cell_type": "markdown",
   "metadata": {},
   "source": [
    "# Cats and Dogs"
   ]
  },
  {
   "cell_type": "code",
   "execution_count": 1,
   "metadata": {},
   "outputs": [],
   "source": [
    "# Model building\n",
    "from tensorflow.keras.models import Sequential\n",
    "from tensorflow.keras.layers import Conv2D, MaxPool2D\n",
    "from tensorflow.keras.layers import Activation, Dropout, Flatten, Dense\n",
    "\n",
    "model = Sequential()\n",
    "model.add(Conv2D(32, kernel_size=(3, 3), activation='relu', input_shape=(150, 150, 3)))\n",
    "model.add(MaxPool2D(pool_size=(2, 2)))\n",
    "\n",
    "model.add(Conv2D(32, (3, 3)))\n",
    "model.add(Activation('relu'))\n",
    "model.add(MaxPool2D(pool_size=(2, 2)))\n",
    "\n",
    "model.add(Conv2D(64, (3, 3)))\n",
    "model.add(Activation('relu'))\n",
    "model.add(MaxPool2D(pool_size=(2, 2)))\n",
    "\n",
    "model.add(Flatten())  # this converts our 3D feature maps to 1D feature vectors\n",
    "model.add(Dense(64))\n",
    "model.add(Activation('relu'))\n",
    "model.add(Dropout(0.5))\n",
    "model.add(Dense(1))\n",
    "model.add(Activation('sigmoid'))\n",
    "\n",
    "model.compile(optimizer='adam', loss='binary_crossentropy', metrics=['accuracy'])"
   ]
  },
  {
   "cell_type": "code",
   "execution_count": 2,
   "metadata": {},
   "outputs": [
    {
     "name": "stdout",
     "output_type": "stream",
     "text": [
      "Found 2000 images belonging to 2 classes.\n",
      "Found 400 images belonging to 2 classes.\n"
     ]
    }
   ],
   "source": [
    "from tensorflow.keras.preprocessing.image import ImageDataGenerator\n",
    "# Image generators definition\n",
    "batch_size = 32\n",
    "\n",
    "# this is the augmentation configuration we will use for training\n",
    "train_datagen = ImageDataGenerator(\n",
    "        rescale=1./255,\n",
    "        shear_range=0.2,\n",
    "        zoom_range=0.2,\n",
    "        horizontal_flip=True)\n",
    "\n",
    "# this is the augmentation configuration we will use for testing:\n",
    "# only rescaling\n",
    "test_datagen = ImageDataGenerator(rescale=1./255)\n",
    "\n",
    "# this is a generator that will read pictures found in\n",
    "# subfolers of 'data/train', and indefinitely generate\n",
    "# batches of augmented image data\n",
    "train_generator = train_datagen.flow_from_directory(\n",
    "        'data/train',  # this is the target directory\n",
    "        target_size=(150, 150),  # all images will be resized to 150x150\n",
    "        batch_size=batch_size,\n",
    "        class_mode='binary')  # since we use binary_crossentropy loss, we need binary labels\n",
    "\n",
    "# this is a similar generator, for validation data\n",
    "validation_generator = test_datagen.flow_from_directory(\n",
    "        'data/test',\n",
    "        target_size=(150, 150),\n",
    "        batch_size=batch_size,\n",
    "        class_mode='binary')"
   ]
  },
  {
   "cell_type": "code",
   "execution_count": 3,
   "metadata": {
    "scrolled": false
   },
   "outputs": [
    {
     "name": "stdout",
     "output_type": "stream",
     "text": [
      "Train for 63 steps, validate for 13 steps\n",
      "Epoch 1/15\n",
      "63/63 [==============================] - 50s 795ms/step - loss: 0.6969 - accuracy: 0.5025 - val_loss: 0.6850 - val_accuracy: 0.6250\n",
      "Epoch 2/15\n",
      "63/63 [==============================] - 61s 969ms/step - loss: 0.6916 - accuracy: 0.5490 - val_loss: 0.6872 - val_accuracy: 0.5800\n",
      "Epoch 3/15\n",
      "63/63 [==============================] - 61s 970ms/step - loss: 0.6801 - accuracy: 0.5835 - val_loss: 0.6582 - val_accuracy: 0.6000\n",
      "Epoch 4/15\n",
      "63/63 [==============================] - 44s 695ms/step - loss: 0.6582 - accuracy: 0.6210 - val_loss: 0.6747 - val_accuracy: 0.5825\n",
      "Epoch 5/15\n",
      "63/63 [==============================] - 43s 689ms/step - loss: 0.6293 - accuracy: 0.6495 - val_loss: 0.6215 - val_accuracy: 0.6600\n",
      "Epoch 6/15\n",
      "63/63 [==============================] - 44s 693ms/step - loss: 0.5952 - accuracy: 0.6905 - val_loss: 0.5902 - val_accuracy: 0.6975\n",
      "Epoch 7/15\n",
      "63/63 [==============================] - 49s 784ms/step - loss: 0.5719 - accuracy: 0.7060 - val_loss: 0.6295 - val_accuracy: 0.6450\n",
      "Epoch 8/15\n",
      "63/63 [==============================] - 49s 780ms/step - loss: 0.5582 - accuracy: 0.7230 - val_loss: 0.5618 - val_accuracy: 0.7125\n",
      "Epoch 9/15\n",
      "63/63 [==============================] - 43s 681ms/step - loss: 0.5273 - accuracy: 0.7310 - val_loss: 0.5877 - val_accuracy: 0.7100\n",
      "Epoch 10/15\n",
      "63/63 [==============================] - 43s 682ms/step - loss: 0.5223 - accuracy: 0.7475 - val_loss: 0.5620 - val_accuracy: 0.7250\n",
      "Epoch 11/15\n",
      "63/63 [==============================] - 44s 696ms/step - loss: 0.5163 - accuracy: 0.7565 - val_loss: 0.5428 - val_accuracy: 0.7225\n",
      "Epoch 12/15\n",
      "63/63 [==============================] - 62s 983ms/step - loss: 0.4894 - accuracy: 0.7625 - val_loss: 0.5307 - val_accuracy: 0.7225\n",
      "Epoch 13/15\n",
      "63/63 [==============================] - 55s 877ms/step - loss: 0.4708 - accuracy: 0.7800 - val_loss: 0.5060 - val_accuracy: 0.7625\n",
      "Epoch 14/15\n",
      "63/63 [==============================] - 55s 870ms/step - loss: 0.4557 - accuracy: 0.7900 - val_loss: 0.5018 - val_accuracy: 0.7675\n",
      "Epoch 15/15\n",
      "63/63 [==============================] - 56s 893ms/step - loss: 0.4368 - accuracy: 0.7960 - val_loss: 0.5499 - val_accuracy: 0.7200\n"
     ]
    },
    {
     "data": {
      "text/plain": [
       "<tensorflow.python.keras.callbacks.History at 0x7f3fcc19d690>"
      ]
     },
     "execution_count": 3,
     "metadata": {},
     "output_type": "execute_result"
    }
   ],
   "source": [
    "# Model training\n",
    "model.fit(train_generator, validation_data=validation_generator, epochs=15)"
   ]
  }
 ],
 "metadata": {
  "kernelspec": {
   "display_name": "Python 3",
   "language": "python",
   "name": "python3"
  },
  "language_info": {
   "codemirror_mode": {
    "name": "ipython",
    "version": 3
   },
   "file_extension": ".py",
   "mimetype": "text/x-python",
   "name": "python",
   "nbconvert_exporter": "python",
   "pygments_lexer": "ipython3",
   "version": "3.7.4"
  },
  "toc": {
   "base_numbering": 1,
   "nav_menu": {},
   "number_sections": true,
   "sideBar": true,
   "skip_h1_title": false,
   "title_cell": "Table of Contents",
   "title_sidebar": "Contents",
   "toc_cell": false,
   "toc_position": {},
   "toc_section_display": true,
   "toc_window_display": false
  },
  "varInspector": {
   "cols": {
    "lenName": 16,
    "lenType": 16,
    "lenVar": 40
   },
   "kernels_config": {
    "python": {
     "delete_cmd_postfix": "",
     "delete_cmd_prefix": "del ",
     "library": "var_list.py",
     "varRefreshCmd": "print(var_dic_list())"
    },
    "r": {
     "delete_cmd_postfix": ") ",
     "delete_cmd_prefix": "rm(",
     "library": "var_list.r",
     "varRefreshCmd": "cat(var_dic_list()) "
    }
   },
   "types_to_exclude": [
    "module",
    "function",
    "builtin_function_or_method",
    "instance",
    "_Feature"
   ],
   "window_display": false
  }
 },
 "nbformat": 4,
 "nbformat_minor": 2
}
